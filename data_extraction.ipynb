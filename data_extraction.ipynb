{
 "cells": [
  {
   "cell_type": "markdown",
   "metadata": {},
   "source": [
    "## important libraries"
   ]
  },
  {
   "cell_type": "code",
   "execution_count": 1,
   "metadata": {
    "scrolled": false
   },
   "outputs": [],
   "source": [
    "import numpy as np\n",
    "import pandas as pd\n",
    "import matplotlib.pyplot as plt\n",
    "import os\n",
    "import cv2\n",
    "from os import listdir\n",
    "from os.path import isfile,join\n",
    "from PIL import Image"
   ]
  },
  {
   "cell_type": "markdown",
   "metadata": {},
   "source": [
    "## create load image function"
   ]
  },
  {
   "cell_type": "code",
   "execution_count": 2,
   "metadata": {},
   "outputs": [],
   "source": [
    "def load_images_from_folder(folder):\n",
    "    train_data = []\n",
    "    for filename in os.listdir(folder):\n",
    "        img=cv2.imread(os.path.join(folder,filename),cv2.IMREAD_GRAYSCALE)\n",
    "        img=~img\n",
    "        _,thresh=cv2.threshold(img,127,255,cv2.THRESH_BINARY)\n",
    "        ctrs,_=cv2.findContours(thresh,cv2.RETR_EXTERNAL,cv2.CHAIN_APPROX_NONE)\n",
    "        cnt=sorted(ctrs,key=lambda ctr:cv2.boundingRect(ctr)[0])\n",
    "        w=int(28)\n",
    "        h=int(28)\n",
    "        maxi=0\n",
    "        for c in cnt:\n",
    "            x,y,w,h=cv2.boundingRect(c)\n",
    "            maxi=max(w*h,maxi)\n",
    "            if maxi==w*h:\n",
    "                x_max=x\n",
    "                y_max=y\n",
    "                h_max=h\n",
    "                w_max=w\n",
    "        im_crop=thresh[y_max:y_max+h_max+10,x_max:x_max+w_max+10]\n",
    "        im_resize=cv2.resize(im_crop,(28,28))\n",
    "        im_resize=np.reshape(im_resize,(784,1))\n",
    "        \n",
    "        train_data.append(im_resize)\n",
    "    return train_data"
   ]
  },
  {
   "cell_type": "markdown",
   "metadata": {},
   "source": [
    "## load the dataset"
   ]
  },
  {
   "cell_type": "code",
   "execution_count": 3,
   "metadata": {},
   "outputs": [],
   "source": [
    "data=[]"
   ]
  },
  {
   "cell_type": "code",
   "execution_count": 4,
   "metadata": {},
   "outputs": [
    {
     "name": "stdout",
     "output_type": "stream",
     "text": [
      "33997\n"
     ]
    }
   ],
   "source": [
    "# assign \"-\" 10\n",
    "data = load_images_from_folder(\"C:/Users/aksha/OneDrive/Desktop/final_year_project/data/extracted_images/-\")\n",
    "len(data)\n",
    "for i in range(0,len(data)):\n",
    "    data[i]=np.append(data[i],[\"10\"])  # adding label to the data\n",
    "print(len(data))\n",
    "    "
   ]
  },
  {
   "cell_type": "code",
   "execution_count": 5,
   "metadata": {},
   "outputs": [
    {
     "name": "stdout",
     "output_type": "stream",
     "text": [
      "59109\n"
     ]
    }
   ],
   "source": [
    "# assign \"+\" 11\n",
    "data0 = load_images_from_folder(\"C:/Users/aksha/OneDrive/Desktop/final_year_project/data/extracted_images/+\")\n",
    "len(data)\n",
    "for i in range(0,len(data0)):\n",
    "    data0[i]=np.append(data0[i],[\"11\"]) # adding label to the data\n",
    "data=np.concatenate((data,data0))\n",
    "print(len(data))"
   ]
  },
  {
   "cell_type": "code",
   "execution_count": 6,
   "metadata": {},
   "outputs": [
    {
     "name": "stdout",
     "output_type": "stream",
     "text": [
      "66023\n"
     ]
    }
   ],
   "source": [
    "# assign \"0\" \n",
    "data1 = load_images_from_folder(\"C:/Users/aksha/OneDrive/Desktop/final_year_project/data/extracted_images/0\")\n",
    "len(data)\n",
    "for i in range(0,len(data1)):\n",
    "    data1[i]=np.append(data1[i],[\"0\"])  # adding label to the data\n",
    "data=np.concatenate((data,data1))\n",
    "print(len(data))"
   ]
  },
  {
   "cell_type": "code",
   "execution_count": 7,
   "metadata": {},
   "outputs": [
    {
     "name": "stdout",
     "output_type": "stream",
     "text": [
      "92543\n"
     ]
    }
   ],
   "source": [
    "# assign \"1\" \n",
    "data2 = load_images_from_folder(\"C:/Users/aksha/OneDrive/Desktop/final_year_project/data/extracted_images/1\")\n",
    "len(data)\n",
    "for i in range(0,len(data2)):\n",
    "    data2[i]=np.append(data2[i],[\"1\"])  # adding label to the data\n",
    "data=np.concatenate((data,data2))\n",
    "print(len(data))"
   ]
  },
  {
   "cell_type": "code",
   "execution_count": 8,
   "metadata": {},
   "outputs": [
    {
     "name": "stdout",
     "output_type": "stream",
     "text": [
      "118684\n"
     ]
    }
   ],
   "source": [
    "# assign \"2\" \n",
    "data3 = load_images_from_folder(\"C:/Users/aksha/OneDrive/Desktop/final_year_project/data/extracted_images/2\")\n",
    "len(data)\n",
    "for i in range(0,len(data3)):\n",
    "    data3[i]=np.append(data3[i],[\"2\"])  # adding label to the data\n",
    "data=np.concatenate((data,data3))\n",
    "print(len(data))"
   ]
  },
  {
   "cell_type": "code",
   "execution_count": 9,
   "metadata": {},
   "outputs": [
    {
     "name": "stdout",
     "output_type": "stream",
     "text": [
      "129593\n"
     ]
    }
   ],
   "source": [
    "# assign \"3\" \n",
    "data4 = load_images_from_folder(\"C:/Users/aksha/OneDrive/Desktop/final_year_project/data/extracted_images/3\")\n",
    "len(data)\n",
    "for i in range(0,len(data4)):\n",
    "    data4[i]=np.append(data4[i],[\"3\"])  # adding label to the data\n",
    "data=np.concatenate((data,data4))\n",
    "print(len(data))"
   ]
  },
  {
   "cell_type": "code",
   "execution_count": 10,
   "metadata": {},
   "outputs": [
    {
     "name": "stdout",
     "output_type": "stream",
     "text": [
      "136989\n"
     ]
    }
   ],
   "source": [
    "# assign \"4\" \n",
    "data5 = load_images_from_folder(\"C:/Users/aksha/OneDrive/Desktop/final_year_project/data/extracted_images/4\")\n",
    "len(data)\n",
    "for i in range(0,len(data5)):\n",
    "    data5[i]=np.append(data5[i],[\"4\"])  # adding label to the data\n",
    "data=np.concatenate((data,data5))\n",
    "print(len(data))"
   ]
  },
  {
   "cell_type": "code",
   "execution_count": 11,
   "metadata": {},
   "outputs": [
    {
     "name": "stdout",
     "output_type": "stream",
     "text": [
      "140534\n"
     ]
    }
   ],
   "source": [
    "# assign \"5\" \n",
    "data6 = load_images_from_folder(\"C:/Users/aksha/OneDrive/Desktop/final_year_project/data/extracted_images/5\")\n",
    "len(data)\n",
    "for i in range(0,len(data6)):\n",
    "    data6[i]=np.append(data6[i],[\"5\"])  # adding label to the data\n",
    "data=np.concatenate((data,data6))\n",
    "print(len(data))"
   ]
  },
  {
   "cell_type": "code",
   "execution_count": 12,
   "metadata": {},
   "outputs": [
    {
     "name": "stdout",
     "output_type": "stream",
     "text": [
      "143652\n"
     ]
    }
   ],
   "source": [
    "# assign \"6\" \n",
    "data7 = load_images_from_folder(\"C:/Users/aksha/OneDrive/Desktop/final_year_project/data/extracted_images/6\")\n",
    "len(data)\n",
    "for i in range(0,len(data7)):\n",
    "    data7[i]=np.append(data7[i],[\"6\"])  # adding label to the data\n",
    "data=np.concatenate((data,data7))\n",
    "print(len(data))"
   ]
  },
  {
   "cell_type": "code",
   "execution_count": 13,
   "metadata": {},
   "outputs": [
    {
     "name": "stdout",
     "output_type": "stream",
     "text": [
      "146561\n"
     ]
    }
   ],
   "source": [
    "# assign \"7\" \n",
    "data8 = load_images_from_folder(\"C:/Users/aksha/OneDrive/Desktop/final_year_project/data/extracted_images/7\")\n",
    "len(data)\n",
    "for i in range(0,len(data8)):\n",
    "    data8[i]=np.append(data8[i],[\"7\"])  # adding label to the data\n",
    "data=np.concatenate((data,data8))\n",
    "print(len(data))"
   ]
  },
  {
   "cell_type": "code",
   "execution_count": 14,
   "metadata": {},
   "outputs": [
    {
     "name": "stdout",
     "output_type": "stream",
     "text": [
      "149629\n"
     ]
    }
   ],
   "source": [
    "# assign \"8\" \n",
    "data9 = load_images_from_folder(\"C:/Users/aksha/OneDrive/Desktop/final_year_project/data/extracted_images/8\")\n",
    "len(data)\n",
    "for i in range(0,len(data9)):\n",
    "    data9[i]=np.append(data9[i],[\"8\"])  # adding label to the data\n",
    "data=np.concatenate((data,data9))\n",
    "print(len(data))"
   ]
  },
  {
   "cell_type": "code",
   "execution_count": 15,
   "metadata": {},
   "outputs": [
    {
     "name": "stdout",
     "output_type": "stream",
     "text": [
      "153366\n"
     ]
    }
   ],
   "source": [
    "# assign \"9\" \n",
    "data10 = load_images_from_folder(\"C:/Users/aksha/OneDrive/Desktop/final_year_project/data/extracted_images/9\")\n",
    "len(data)\n",
    "for i in range(0,len(data10)):\n",
    "    data10[i]=np.append(data10[i],[\"9\"])  # adding label to the data\n",
    "data=np.concatenate((data,data10))\n",
    "print(len(data))"
   ]
  },
  {
   "cell_type": "code",
   "execution_count": 16,
   "metadata": {},
   "outputs": [
    {
     "name": "stdout",
     "output_type": "stream",
     "text": [
      "156617\n"
     ]
    }
   ],
   "source": [
    "# assign \"x\" \n",
    "data11 = load_images_from_folder(\"C:/Users/aksha/OneDrive/Desktop/final_year_project/data/extracted_images/times\")\n",
    "len(data)\n",
    "for i in range(0,len(data11)):\n",
    "    data11[i]=np.append(data11[i],[\"12\"])  # adding label to the data\n",
    "data=np.concatenate((data,data11))\n",
    "print(len(data))"
   ]
  },
  {
   "cell_type": "code",
   "execution_count": 17,
   "metadata": {},
   "outputs": [
    {
     "name": "stdout",
     "output_type": "stream",
     "text": [
      "168984\n"
     ]
    }
   ],
   "source": [
    "# assign \"A\" \n",
    "data12 = load_images_from_folder(\"C:/Users/aksha/OneDrive/Desktop/final_year_project/data/extracted_images/A\")\n",
    "len(data)\n",
    "for i in range(0,len(data12)):\n",
    "    data12[i]=np.append(data12[i],[\"13\"])  # adding label to the data\n",
    "data=np.concatenate((data,data12))\n",
    "print(len(data))"
   ]
  },
  {
   "cell_type": "code",
   "execution_count": 18,
   "metadata": {},
   "outputs": [
    {
     "name": "stdout",
     "output_type": "stream",
     "text": [
      "171530\n"
     ]
    }
   ],
   "source": [
    "# assign \"Alpha\" \n",
    "data13 = load_images_from_folder(\"C:/Users/aksha/OneDrive/Desktop/final_year_project/data/extracted_images/alpha\")\n",
    "len(data)\n",
    "for i in range(0,len(data13)):\n",
    "    data13[i]=np.append(data13[i],[\"14\"])  # adding label to the data\n",
    "data=np.concatenate((data,data13))\n",
    "print(len(data))"
   ]
  },
  {
   "cell_type": "code",
   "execution_count": 19,
   "metadata": {},
   "outputs": [
    {
     "name": "stdout",
     "output_type": "stream",
     "text": [
      "180181\n"
     ]
    }
   ],
   "source": [
    "# assign \"b\" \n",
    "data14 = load_images_from_folder(\"C:/Users/aksha/OneDrive/Desktop/final_year_project/data/extracted_images/b\")\n",
    "len(data)\n",
    "for i in range(0,len(data14)):\n",
    "    data14[i]=np.append(data14[i],[\"15\"])  # adding label to the data\n",
    "data=np.concatenate((data,data14))\n",
    "print(len(data))"
   ]
  },
  {
   "cell_type": "code",
   "execution_count": 20,
   "metadata": {},
   "outputs": [
    {
     "name": "stdout",
     "output_type": "stream",
     "text": [
      "182206\n"
     ]
    }
   ],
   "source": [
    "# assign \"beta\" \n",
    "data15 = load_images_from_folder(\"C:/Users/aksha/OneDrive/Desktop/final_year_project/data/extracted_images/beta\")\n",
    "len(data)\n",
    "for i in range(0,len(data15)):\n",
    "    data15[i]=np.append(data15[i],[\"16\"])  # adding label to the data\n",
    "data=np.concatenate((data,data15))\n",
    "print(len(data))"
   ]
  },
  {
   "cell_type": "code",
   "execution_count": 21,
   "metadata": {},
   "outputs": [
    {
     "name": "stdout",
     "output_type": "stream",
     "text": [
      "188008\n"
     ]
    }
   ],
   "source": [
    "# assign \"C\" \n",
    "data16 = load_images_from_folder(\"C:/Users/aksha/OneDrive/Desktop/final_year_project/data/extracted_images/C\")\n",
    "len(data)\n",
    "for i in range(0,len(data16)):\n",
    "    data16[i]=np.append(data16[i],[\"17\"])  # adding label to the data\n",
    "data=np.concatenate((data,data16))\n",
    "print(len(data))"
   ]
  },
  {
   "cell_type": "code",
   "execution_count": 22,
   "metadata": {},
   "outputs": [
    {
     "name": "stdout",
     "output_type": "stream",
     "text": [
      "192860\n"
     ]
    }
   ],
   "source": [
    "# assign \"d\" \n",
    "data17 = load_images_from_folder(\"C:/Users/aksha/OneDrive/Desktop/final_year_project/data/extracted_images/d\")\n",
    "len(data)\n",
    "for i in range(0,len(data17)):\n",
    "    data17[i]=np.append(data17[i],[\"18\"])  # adding label to the data\n",
    "data=np.concatenate((data,data17))\n",
    "print(len(data))"
   ]
  },
  {
   "cell_type": "code",
   "execution_count": 23,
   "metadata": {},
   "outputs": [
    {
     "name": "stdout",
     "output_type": "stream",
     "text": [
      "195863\n"
     ]
    }
   ],
   "source": [
    "# assign \"e\" \n",
    "data18 = load_images_from_folder(\"C:/Users/aksha/OneDrive/Desktop/final_year_project/data/extracted_images/e\")\n",
    "len(data)\n",
    "for i in range(0,len(data18)):\n",
    "    data18[i]=np.append(data18[i],[\"19\"])  # adding label to the data\n",
    "data=np.concatenate((data,data18))\n",
    "print(len(data))"
   ]
  },
  {
   "cell_type": "code",
   "execution_count": 24,
   "metadata": {},
   "outputs": [
    {
     "name": "stdout",
     "output_type": "stream",
     "text": [
      "199575\n"
     ]
    }
   ],
   "source": [
    "# assign \"f\" \n",
    "data19 = load_images_from_folder(\"C:/Users/aksha/OneDrive/Desktop/final_year_project/data/extracted_images/f\")\n",
    "len(data)\n",
    "for i in range(0,len(data19)):\n",
    "    data19[i]=np.append(data19[i],[\"20\"])  # adding label to the data\n",
    "data=np.concatenate((data,data19))\n",
    "print(len(data))"
   ]
  },
  {
   "cell_type": "code",
   "execution_count": 25,
   "metadata": {},
   "outputs": [
    {
     "name": "stdout",
     "output_type": "stream",
     "text": [
      "201267\n"
     ]
    }
   ],
   "source": [
    "# assign \"G\" \n",
    "data20 = load_images_from_folder(\"C:/Users/aksha/OneDrive/Desktop/final_year_project/data/extracted_images/G\")\n",
    "len(data)\n",
    "for i in range(0,len(data20)):\n",
    "    data20[i]=np.append(data20[i],[\"21\"])  # adding label to the data\n",
    "data=np.concatenate((data,data20))\n",
    "print(len(data))"
   ]
  },
  {
   "cell_type": "code",
   "execution_count": 26,
   "metadata": {},
   "outputs": [
    {
     "name": "stdout",
     "output_type": "stream",
     "text": [
      "202731\n"
     ]
    }
   ],
   "source": [
    "# assign \"H\" \n",
    "data21 = load_images_from_folder(\"C:/Users/aksha/OneDrive/Desktop/final_year_project/data/extracted_images/H\")\n",
    "len(data)\n",
    "for i in range(0,len(data21)):\n",
    "    data21[i]=np.append(data21[i],[\"22\"])  # adding label to the data\n",
    "data=np.concatenate((data,data21))\n",
    "print(len(data))"
   ]
  },
  {
   "cell_type": "code",
   "execution_count": 27,
   "metadata": {},
   "outputs": [
    {
     "name": "stdout",
     "output_type": "stream",
     "text": [
      "207871\n"
     ]
    }
   ],
   "source": [
    "# assign \"i\" \n",
    "data22 = load_images_from_folder(\"C:/Users/aksha/OneDrive/Desktop/final_year_project/data/extracted_images/i\")\n",
    "len(data)\n",
    "for i in range(0,len(data22)):\n",
    "    data22[i]=np.append(data22[i],[\"23\"])  # adding label to the data\n",
    "data=np.concatenate((data,data22))\n",
    "print(len(data))"
   ]
  },
  {
   "cell_type": "code",
   "execution_count": 28,
   "metadata": {},
   "outputs": [
    {
     "name": "stdout",
     "output_type": "stream",
     "text": [
      "209654\n"
     ]
    }
   ],
   "source": [
    "# assign \"infty\" \n",
    "data23 = load_images_from_folder(\"C:/Users/aksha/OneDrive/Desktop/final_year_project/data/extracted_images/infty\")\n",
    "len(data)\n",
    "for i in range(0,len(data23)):\n",
    "    data23[i]=np.append(data23[i],[\"24\"])  # adding label to the data\n",
    "data=np.concatenate((data,data23))\n",
    "print(len(data))"
   ]
  },
  {
   "cell_type": "code",
   "execution_count": 29,
   "metadata": {},
   "outputs": [
    {
     "name": "stdout",
     "output_type": "stream",
     "text": [
      "211190\n"
     ]
    }
   ],
   "source": [
    "# assign \"j\" \n",
    "data24 = load_images_from_folder(\"C:/Users/aksha/OneDrive/Desktop/final_year_project/data/extracted_images/j\")\n",
    "len(data)\n",
    "for i in range(0,len(data24)):\n",
    "    data24[i]=np.append(data24[i],[\"25\"])  # adding label to the data\n",
    "data=np.concatenate((data,data24))\n",
    "print(len(data))"
   ]
  },
  {
   "cell_type": "code",
   "execution_count": 30,
   "metadata": {},
   "outputs": [
    {
     "name": "stdout",
     "output_type": "stream",
     "text": [
      "214264\n"
     ]
    }
   ],
   "source": [
    "# assign \"k\" \n",
    "data25 = load_images_from_folder(\"C:/Users/aksha/OneDrive/Desktop/final_year_project/data/extracted_images/k\")\n",
    "len(data)\n",
    "for i in range(0,len(data25)):\n",
    "    data25[i]=np.append(data25[i],[\"26\"])  # adding label to the data\n",
    "data=np.concatenate((data,data25))\n",
    "print(len(data))"
   ]
  },
  {
   "cell_type": "code",
   "execution_count": 31,
   "metadata": {},
   "outputs": [
    {
     "name": "stdout",
     "output_type": "stream",
     "text": [
      "215281\n"
     ]
    }
   ],
   "source": [
    "# assign \"l\" \n",
    "data26 = load_images_from_folder(\"C:/Users/aksha/OneDrive/Desktop/final_year_project/data/extracted_images/l\")\n",
    "len(data)\n",
    "for i in range(0,len(data26)):\n",
    "    data26[i]=np.append(data26[i],[\"27\"])  # adding label to the data\n",
    "data=np.concatenate((data,data26))\n",
    "print(len(data))"
   ]
  },
  {
   "cell_type": "code",
   "execution_count": 32,
   "metadata": {},
   "outputs": [
    {
     "name": "stdout",
     "output_type": "stream",
     "text": [
      "217757\n"
     ]
    }
   ],
   "source": [
    "# assign \"M\" \n",
    "data27 = load_images_from_folder(\"C:/Users/aksha/OneDrive/Desktop/final_year_project/data/extracted_images/M\")\n",
    "len(data)\n",
    "for i in range(0,len(data27)):\n",
    "    data27[i]=np.append(data27[i],[\"28\"])  # adding label to the data\n",
    "data=np.concatenate((data,data27))\n",
    "print(len(data))"
   ]
  },
  {
   "cell_type": "code",
   "execution_count": 33,
   "metadata": {},
   "outputs": [
    {
     "name": "stdout",
     "output_type": "stream",
     "text": [
      "228619\n"
     ]
    }
   ],
   "source": [
    "# assign \"N\" \n",
    "data28 = load_images_from_folder(\"C:/Users/aksha/OneDrive/Desktop/final_year_project/data/extracted_images/N\")\n",
    "len(data)\n",
    "for i in range(0,len(data28)):\n",
    "    data28[i]=np.append(data28[i],[\"29\"])  # adding label to the data\n",
    "data=np.concatenate((data,data28))\n",
    "print(len(data))"
   ]
  },
  {
   "cell_type": "code",
   "execution_count": 34,
   "metadata": {},
   "outputs": [
    {
     "name": "stdout",
     "output_type": "stream",
     "text": [
      "231299\n"
     ]
    }
   ],
   "source": [
    "# assign \"p\" \n",
    "data29 = load_images_from_folder(\"C:/Users/aksha/OneDrive/Desktop/final_year_project/data/extracted_images/p\")\n",
    "len(data)\n",
    "for i in range(0,len(data29)):\n",
    "    data29[i]=np.append(data29[i],[\"30\"])  # adding label to the data\n",
    "data=np.concatenate((data,data29))\n",
    "print(len(data))"
   ]
  },
  {
   "cell_type": "code",
   "execution_count": 35,
   "metadata": {},
   "outputs": [
    {
     "name": "stdout",
     "output_type": "stream",
     "text": [
      "233631\n"
     ]
    }
   ],
   "source": [
    "# assign \"pi\" \n",
    "data30 = load_images_from_folder(\"C:/Users/aksha/OneDrive/Desktop/final_year_project/data/extracted_images/pi\")\n",
    "len(data)\n",
    "for i in range(0,len(data30)):\n",
    "    data30[i]=np.append(data30[i],[\"31\"])  # adding label to the data\n",
    "data=np.concatenate((data,data30))\n",
    "print(len(data))"
   ]
  },
  {
   "cell_type": "code",
   "execution_count": 36,
   "metadata": {},
   "outputs": [
    {
     "name": "stdout",
     "output_type": "stream",
     "text": [
      "234861\n"
     ]
    }
   ],
   "source": [
    "# assign \"q\" \n",
    "data31 = load_images_from_folder(\"C:/Users/aksha/OneDrive/Desktop/final_year_project/data/extracted_images/q\")\n",
    "len(data)\n",
    "for i in range(0,len(data31)):\n",
    "    data31[i]=np.append(data31[i],[\"32\"])  # adding label to the data\n",
    "data=np.concatenate((data,data31))\n",
    "print(len(data))"
   ]
  },
  {
   "cell_type": "code",
   "execution_count": 37,
   "metadata": {},
   "outputs": [
    {
     "name": "stdout",
     "output_type": "stream",
     "text": [
      "237532\n"
     ]
    }
   ],
   "source": [
    "# assign \"R\" \n",
    "data32 = load_images_from_folder(\"C:/Users/aksha/OneDrive/Desktop/final_year_project/data/extracted_images/R\")\n",
    "len(data)\n",
    "for i in range(0,len(data32)):\n",
    "    data32[i]=np.append(data32[i],[\"33\"])  # adding label to the data\n",
    "data=np.concatenate((data,data32))\n",
    "print(len(data))"
   ]
  },
  {
   "cell_type": "code",
   "execution_count": 38,
   "metadata": {},
   "outputs": [
    {
     "name": "stdout",
     "output_type": "stream",
     "text": [
      "238945\n"
     ]
    }
   ],
   "source": [
    "# assign \"S\" \n",
    "data33 = load_images_from_folder(\"C:/Users/aksha/OneDrive/Desktop/final_year_project/data/extracted_images/S\")\n",
    "len(data)\n",
    "for i in range(0,len(data33)):\n",
    "    data33[i]=np.append(data33[i],[\"34\"])  # adding label to the data\n",
    "data=np.concatenate((data,data33))\n",
    "print(len(data))"
   ]
  },
  {
   "cell_type": "code",
   "execution_count": 39,
   "metadata": {},
   "outputs": [
    {
     "name": "stdout",
     "output_type": "stream",
     "text": [
      "242219\n"
     ]
    }
   ],
   "source": [
    "# assign \"T\" \n",
    "data34 = load_images_from_folder(\"C:/Users/aksha/OneDrive/Desktop/final_year_project/data/extracted_images/T\")\n",
    "len(data)\n",
    "for i in range(0,len(data34)):\n",
    "    data34[i]=np.append(data34[i],[\"35\"])  # adding label to the data\n",
    "data=np.concatenate((data,data34))\n",
    "print(len(data))"
   ]
  },
  {
   "cell_type": "code",
   "execution_count": 40,
   "metadata": {},
   "outputs": [
    {
     "name": "stdout",
     "output_type": "stream",
     "text": [
      "245015\n"
     ]
    }
   ],
   "source": [
    "# assign \"theta\" \n",
    "data35 = load_images_from_folder(\"C:/Users/aksha/OneDrive/Desktop/final_year_project/data/extracted_images/theta\")\n",
    "len(data)\n",
    "for i in range(0,len(data35)):\n",
    "    data35[i]=np.append(data35[i],[\"36\"])  # adding label to the data\n",
    "data=np.concatenate((data,data35))\n",
    "print(len(data))"
   ]
  },
  {
   "cell_type": "code",
   "execution_count": 41,
   "metadata": {},
   "outputs": [
    {
     "name": "stdout",
     "output_type": "stream",
     "text": [
      "246284\n"
     ]
    }
   ],
   "source": [
    "# assign \"u\" \n",
    "data36 = load_images_from_folder(\"C:/Users/aksha/OneDrive/Desktop/final_year_project/data/extracted_images/u\")\n",
    "len(data)\n",
    "for i in range(0,len(data36)):\n",
    "    data36[i]=np.append(data36[i],[\"37\"])  # adding label to the data\n",
    "data=np.concatenate((data,data36))\n",
    "print(len(data))"
   ]
  },
  {
   "cell_type": "code",
   "execution_count": 42,
   "metadata": {},
   "outputs": [
    {
     "name": "stdout",
     "output_type": "stream",
     "text": [
      "247842\n"
     ]
    }
   ],
   "source": [
    "# assign \"v\" \n",
    "data37 = load_images_from_folder(\"C:/Users/aksha/OneDrive/Desktop/final_year_project/data/extracted_images/v\")\n",
    "len(data)\n",
    "for i in range(0,len(data37)):\n",
    "    data37[i]=np.append(data37[i],[\"38\"])  # adding label to the data\n",
    "data=np.concatenate((data,data37))\n",
    "print(len(data))"
   ]
  },
  {
   "cell_type": "code",
   "execution_count": 43,
   "metadata": {},
   "outputs": [
    {
     "name": "stdout",
     "output_type": "stream",
     "text": [
      "274436\n"
     ]
    }
   ],
   "source": [
    "# assign \"X\" \n",
    "data38 = load_images_from_folder(\"C:/Users/aksha/OneDrive/Desktop/final_year_project/data/extracted_images/X\")\n",
    "len(data)\n",
    "for i in range(0,len(data38)):\n",
    "    data38[i]=np.append(data38[i],[\"39\"])  # adding label to the data\n",
    "data=np.concatenate((data,data38))\n",
    "print(len(data))"
   ]
  },
  {
   "cell_type": "code",
   "execution_count": 44,
   "metadata": {},
   "outputs": [
    {
     "name": "stdout",
     "output_type": "stream",
     "text": [
      "283776\n"
     ]
    }
   ],
   "source": [
    "# assign \"y\" \n",
    "data39 = load_images_from_folder(\"C:/Users/aksha/OneDrive/Desktop/final_year_project/data/extracted_images/y\")\n",
    "len(data)\n",
    "for i in range(0,len(data39)):\n",
    "    data39[i]=np.append(data39[i],[\"40\"])  # adding label to the data\n",
    "data=np.concatenate((data,data39))\n",
    "print(len(data))"
   ]
  },
  {
   "cell_type": "code",
   "execution_count": 45,
   "metadata": {},
   "outputs": [
    {
     "name": "stdout",
     "output_type": "stream",
     "text": [
      "289646\n"
     ]
    }
   ],
   "source": [
    "# assign \"z\" \n",
    "data40 = load_images_from_folder(\"C:/Users/aksha/OneDrive/Desktop/final_year_project/data/extracted_images/z\")\n",
    "len(data)\n",
    "for i in range(0,len(data40)):\n",
    "    data40[i]=np.append(data40[i],[\"41\"])  # adding label to the data\n",
    "data=np.concatenate((data,data40))\n",
    "print(len(data))"
   ]
  },
  {
   "cell_type": "code",
   "execution_count": 46,
   "metadata": {},
   "outputs": [
    {
     "name": "stdout",
     "output_type": "stream",
     "text": [
      "303940\n"
     ]
    }
   ],
   "source": [
    "# assign \"(\" \n",
    "data41 = load_images_from_folder(\"C:/Users/aksha/OneDrive/Desktop/final_year_project/data/extracted_images/(\")\n",
    "len(data)\n",
    "for i in range(0,len(data41)):\n",
    "    data41[i]=np.append(data41[i],[\"42\"])  # adding label to the data\n",
    "data=np.concatenate((data,data41))\n",
    "print(len(data))"
   ]
  },
  {
   "cell_type": "code",
   "execution_count": 47,
   "metadata": {},
   "outputs": [
    {
     "name": "stdout",
     "output_type": "stream",
     "text": [
      "318295\n"
     ]
    }
   ],
   "source": [
    "# assign \")\" \n",
    "data42 = load_images_from_folder(\"C:/Users/aksha/OneDrive/Desktop/final_year_project/data/extracted_images/)\")\n",
    "len(data)\n",
    "for i in range(0,len(data42)):\n",
    "    data42[i]=np.append(data42[i],[\"43\"])  # adding label to the data\n",
    "data=np.concatenate((data,data42))\n",
    "print(len(data))"
   ]
  },
  {
   "cell_type": "code",
   "execution_count": 48,
   "metadata": {},
   "outputs": [
    {
     "name": "stdout",
     "output_type": "stream",
     "text": [
      "331399\n"
     ]
    }
   ],
   "source": [
    "# assign \"=\" \n",
    "data43 = load_images_from_folder(\"C:/Users/aksha/OneDrive/Desktop/final_year_project/data/extracted_images/=\")\n",
    "len(data)\n",
    "for i in range(0,len(data43)):\n",
    "    data43[i]=np.append(data43[i],[\"44\"])  # adding label to the data\n",
    "data=np.concatenate((data,data43))\n",
    "print(len(data))"
   ]
  },
  {
   "cell_type": "code",
   "execution_count": 49,
   "metadata": {},
   "outputs": [],
   "source": [
    "df=pd.DataFrame(data,index=None)\n",
    "df.to_csv('train_fin.csv',index=False)"
   ]
  },
  {
   "cell_type": "code",
   "execution_count": 50,
   "metadata": {},
   "outputs": [
    {
     "data": {
      "text/plain": [
       "317466"
      ]
     },
     "execution_count": 50,
     "metadata": {},
     "output_type": "execute_result"
    }
   ],
   "source": [
    "317466"
   ]
  },
  {
   "cell_type": "code",
   "execution_count": null,
   "metadata": {},
   "outputs": [],
   "source": []
  }
 ],
 "metadata": {
  "kernelspec": {
   "display_name": "Python 3",
   "language": "python",
   "name": "python3"
  },
  "language_info": {
   "codemirror_mode": {
    "name": "ipython",
    "version": 3
   },
   "file_extension": ".py",
   "mimetype": "text/x-python",
   "name": "python",
   "nbconvert_exporter": "python",
   "pygments_lexer": "ipython3",
   "version": "3.8.3"
  }
 },
 "nbformat": 4,
 "nbformat_minor": 4
}
